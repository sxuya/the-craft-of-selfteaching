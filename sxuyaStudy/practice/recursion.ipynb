{
 "cells": [
  {
   "cell_type": "code",
   "execution_count": 12,
   "metadata": {},
   "outputs": [
    {
     "name": "stdout",
     "output_type": "stream",
     "text": [
      "\t进行函数的一次运算，这次调用中 n 是 5\n",
      "\t进行函数的一次运算，这次调用中 n 是 4\n",
      "\t进行函数的一次运算，这次调用中 n 是 3\n",
      "\t进行函数的一次运算，这次调用中 n 是 2\n",
      "\t进行函数的一次运算，这次调用中 n 是 1\n",
      "begin to return the number:::\n",
      "\t收到 n 是 1 的返回值 1，这次计算的结果是 2\n",
      "\t收到 n 是 2 的返回值 2，这次计算的结果是 6\n",
      "\t收到 n 是 3 的返回值 6，这次计算的结果是 24\n",
      "\t收到 n 是 4 的返回值 24，这次计算的结果是 120\n"
     ]
    },
    {
     "data": {
      "text/plain": [
       "120"
      ]
     },
     "execution_count": 12,
     "metadata": {},
     "output_type": "execute_result"
    }
   ],
   "source": [
    "def factorial(n):\n",
    "    print(f'\\t进行函数的一次运算，这次调用中 n 是 {n}')\n",
    "    if n == 1:\n",
    "        print('begin to return the number:::')\n",
    "        return 1\n",
    "    else:\n",
    "        return_number = n * factorial(n-1)\n",
    "        print(f'\\t收到 n 是 {n-1} 的返回值 {int(return_number / n)}，这次计算的结果是 {return_number}')\n",
    "        return return_number\n",
    "\n",
    "factorial(5)"
   ]
  },
  {
   "cell_type": "code",
   "execution_count": 31,
   "metadata": {},
   "outputs": [
    {
     "name": "stdout",
     "output_type": "stream",
     "text": [
      "am still sleeping, it's 1 days\n",
      "am still sleeping, it's 2 days\n",
      "am still sleeping, it's 3 days\n",
      "am still sleeping, it's 4 days\n",
      "am still sleeping, it's 5 days\n"
     ]
    },
    {
     "data": {
      "text/plain": [
       "\"i'dead so i woke up and i have slept 5 days\""
      ]
     },
     "execution_count": 31,
     "metadata": {},
     "output_type": "execute_result"
    }
   ],
   "source": [
    "import random\n",
    "\n",
    "def into_dream(days=0, dead=False, kicked=False):\n",
    "    days += 1\n",
    "    dead = not random.randrange(0, 10)\n",
    "    kicked = not random.randrange(0, 10)\n",
    "    print(f'am still sleeping, it\\'s {days} days')\n",
    "    \n",
    "    if dead:\n",
    "        return(f\"i'dead so i woke up and i have slept {days} days\")\n",
    "    elif kicked:\n",
    "        return(f\"i'm kicked so i woke up and i have slept {days} days\")\n",
    "    else:\n",
    "        return into_dream(days)\n",
    "\n",
    "into_dream()"
   ]
  }
 ],
 "metadata": {
  "kernelspec": {
   "display_name": "python3.7.1",
   "language": "python",
   "name": "python3.7.1"
  },
  "language_info": {
   "codemirror_mode": {
    "name": "ipython",
    "version": 3
   },
   "file_extension": ".py",
   "mimetype": "text/x-python",
   "name": "python",
   "nbconvert_exporter": "python",
   "pygments_lexer": "ipython3",
   "version": "3.7.1"
  }
 },
 "nbformat": 4,
 "nbformat_minor": 2
}

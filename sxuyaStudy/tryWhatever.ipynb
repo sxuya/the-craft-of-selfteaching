{
 "cells": [
  {
   "cell_type": "code",
   "execution_count": 8,
   "metadata": {},
   "outputs": [
    {
     "name": "stdout",
     "output_type": "stream",
     "text": [
      "['Sa', 'Wd', 'Zz', 'Fx', 'Cr', 'Lq', 'Nc', 'Dq', 'Md', 'Or']\n"
     ]
    }
   ],
   "source": [
    "import random\n",
    "n = 10\n",
    "b_list = [chr(random.randrange(65, 91)) +\n",
    "            chr(random.randrange(97, 123))\n",
    "            for i in range(n)]\n",
    "print(b_list)"
   ]
  }
 ],
 "metadata": {
  "kernelspec": {
   "display_name": "python3.7.1",
   "language": "python",
   "name": "python3.7.1"
  },
  "language_info": {
   "codemirror_mode": {
    "name": "ipython",
    "version": 3
   },
   "file_extension": ".py",
   "mimetype": "text/x-python",
   "name": "python",
   "nbconvert_exporter": "python",
   "pygments_lexer": "ipython3",
   "version": "3.7.1"
  }
 },
 "nbformat": 4,
 "nbformat_minor": 2
}

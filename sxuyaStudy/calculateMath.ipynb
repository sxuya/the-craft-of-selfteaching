{
 "cells": [
  {
   "cell_type": "code",
   "execution_count": 15,
   "metadata": {},
   "outputs": [
    {
     "name": "stdout",
     "output_type": "stream",
     "text": [
      "0.7257437415779593\n"
     ]
    }
   ],
   "source": [
    "c = (96-24*(3**(0.5)))/75\n",
    "print(c)"
   ]
  },
  {
   "cell_type": "code",
   "execution_count": 16,
   "metadata": {},
   "outputs": [
    {
     "name": "stdout",
     "output_type": "stream",
     "text": [
      "3.584147803836734\n",
      "5.0\n"
     ]
    }
   ],
   "source": [
    "x = ((1600*c*c-4096*c+4096)/((16-5*c)*(16-5*c)))**(0.5)\n",
    "print(x)\n",
    "print(25**0.5)"
   ]
  },
  {
   "cell_type": "code",
   "execution_count": 21,
   "metadata": {},
   "outputs": [
    {
     "name": "stdout",
     "output_type": "stream",
     "text": [
      "3.1109194576642785\n"
     ]
    }
   ],
   "source": [
    "y = (((64-8*c)/(16-5*c)-8/5)**2 + ((24*c)/(16-5*c) - 6/5)**2)**0.5\n",
    "print(y)"
   ]
  },
  {
   "cell_type": "code",
   "execution_count": 30,
   "metadata": {},
   "outputs": [
    {
     "name": "stdout",
     "output_type": "stream",
     "text": [
      "-7.105427357601002e-15\n"
     ]
    }
   ],
   "source": [
    "print(y**2+(-x**2+2*x-4))"
   ]
  },
  {
   "cell_type": "code",
   "execution_count": 32,
   "metadata": {},
   "outputs": [
    {
     "name": "stdout",
     "output_type": "stream",
     "text": [
      "1.7763568394002505e-15\n"
     ]
    }
   ],
   "source": [
    "print(x**2-(22+24*3**0.5)*x/5+212/5 - y**2)"
   ]
  }
 ],
 "metadata": {
  "kernelspec": {
   "display_name": "python3.7.1",
   "language": "python",
   "name": "python3.7.1"
  },
  "language_info": {
   "codemirror_mode": {
    "name": "ipython",
    "version": 3
   },
   "file_extension": ".py",
   "mimetype": "text/x-python",
   "name": "python",
   "nbconvert_exporter": "python",
   "pygments_lexer": "ipython3",
   "version": "3.7.1"
  }
 },
 "nbformat": 4,
 "nbformat_minor": 2
}

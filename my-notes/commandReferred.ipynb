{
 "cells": [
  {
   "cell_type": "markdown",
   "metadata": {},
   "source": [
    "# 学习过程使用过的操作记录 Logs"
   ]
  },
  {
   "cell_type": "markdown",
   "metadata": {},
   "source": [
    "## git bash 命令"
   ]
  },
  {
   "cell_type": "markdown",
   "metadata": {},
   "source": [
    "### 开始配置"
   ]
  },
  {
   "cell_type": "markdown",
   "metadata": {},
   "source": [
    "- 输入账户用户名和邮箱\n",
    "\n",
    "```\n",
    "git config --global user.name \"sxuya\"  \n",
    "```\n",
    "```\n",
    "git config --global user.email \"yesxuya@gmail.com\"\n",
    "```\n",
    "- 查看配置信息\n",
    "\n",
    "```\n",
    "git config --list\n",
    "```"
   ]
  },
  {
   "cell_type": "markdown",
   "metadata": {},
   "source": [
    "### 将本地文件变成 git 文件"
   ]
  },
  {
   "cell_type": "markdown",
   "metadata": {},
   "source": [
    "进入到目标文件夹\n",
    "```\n",
    "git init\n",
    "```\n",
    "目标文件夹里面会出现一个名字为```.git```的隐藏文件夹，就是成功了。  \n",
    "\n",
    "**注意**：这个文件夹是千万不能改动的。"
   ]
  },
  {
   "cell_type": "markdown",
   "metadata": {},
   "source": [
    "### 本次操作"
   ]
  },
  {
   "cell_type": "markdown",
   "metadata": {},
   "source": [
    "在文件夹里面进行文件的修改、创建、删除等等你想要的操作。**但是**，一次修改尽量统一，以免会期自己也不知道当时的一次变动做了什么。比如，这次我创建了```readme.md```文件，并且在里面输入了内容，或者修改了内容。"
   ]
  },
  {
   "cell_type": "markdown",
   "metadata": {},
   "source": [
    "### 挑选 git 的文件"
   ]
  },
  {
   "cell_type": "markdown",
   "metadata": {},
   "source": [
    "```\n",
    "git add readme.md\n",
    "```\n",
    "\n",
    "无法返回信息。"
   ]
  },
  {
   "cell_type": "markdown",
   "metadata": {},
   "source": [
    "### 本地固定操作的文件"
   ]
  },
  {
   "cell_type": "markdown",
   "metadata": {},
   "source": [
    "```\n",
    "git commit -m \"add readme.md file\"\n",
    "```"
   ]
  },
  {
   "cell_type": "markdown",
   "metadata": {},
   "source": [
    "这样就可以把一次的修改等操作的文件放到*暂存区*得到（类似）“保存”（的操作）。  \n",
    "（操作前的文件，所有的变动内容就会暂时保存在本地；你之后再做的其他修改，不会被这次类似“保存”的操作记录。）"
   ]
  },
  {
   "cell_type": "code",
   "execution_count": null,
   "metadata": {},
   "outputs": [],
   "source": []
  },
  {
   "cell_type": "markdown",
   "metadata": {},
   "source": []
  }
 ],
 "metadata": {
  "kernelspec": {
   "display_name": "python3.7.1",
   "language": "python",
   "name": "python3.7.1"
  },
  "language_info": {
   "codemirror_mode": {
    "name": "ipython",
    "version": 3
   },
   "file_extension": ".py",
   "mimetype": "text/x-python",
   "name": "python",
   "nbconvert_exporter": "python",
   "pygments_lexer": "ipython3",
   "version": "3.7.1"
  }
 },
 "nbformat": 4,
 "nbformat_minor": 2
}

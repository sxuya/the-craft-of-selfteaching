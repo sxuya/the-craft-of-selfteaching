{
 "cells": [
  {
   "cell_type": "markdown",
   "metadata": {},
   "source": [
    "# 软件问题"
   ]
  },
  {
   "cell_type": "markdown",
   "metadata": {},
   "source": [
    "## Python 版本更新"
   ]
  },
  {
   "cell_type": "markdown",
   "metadata": {},
   "source": [
    "事情原因：\n",
    "由于笑来老师使用的语法是最新的 Python 3.7 的特征的内容，有些语法的代码无法显示——Google 有些时间找到的原因。所以需要更新 Python 的版本。\n",
    "\n",
    "过程中遇到的困难\n",
    "具体的情况也不清楚了，大致情况是：Google 到的情况是“Python 3.6 版本以上才可以支持新的语法”，但是我在 Anaconda 里面查到的是3.6.5——但是最后重新安装的时候，终端提示的升级是 3.5 --> 3.7.3，好奇怪。\n",
    "安装完新版本的 Python 之后，好像是又升级了 jupyter lab，但是重新启动的时候，竟然无法启动，提示“无法找到相应的 modules”类似的信息，什么“jupyter-serve”没有。\n",
    "好奇怪，我在 conda list 里面还能看到有相应的软件。\n",
    "另外，conda 的 update 竟然也提示没有 conda，这又是什么情况。\n",
    "\n",
    "最后的解决情况\n",
    "\n",
    "最后，基本是全部重新安装了所有的内容：删除了原来的 Python3 环境；重新建立了 Python3 环境；从新下载了 Python3.7.3；更新了 conda（吐槽一下，不清楚为什么这个安装等待了好久，一直在转圈圈，期间关闭了2次终端）；安装了 nodejs；安装了 jupyter。\n",
    "现在，好了，可以正常启动 jupyter lab，不知道教程里面的新语法能不能正常运行了呢？\n",
    "还是不行，但是我在终端可以正常使用新语法，但是在 jupyter lab 里面就不行，应该去找 jupyter lab 的调试方法。\n",
    "\n",
    "最后找到真的可以解决问题的方法：\n",
    "Jupyter lab 安装及多kernel配置，如下关键语句：\n",
    " python -m ipykernel install --name py35\n",
    "\n",
    "这个时候，jupyter lab 里面的 kernel 里面就有 py3 这个选项了。"
   ]
  },
  {
   "cell_type": "markdown",
   "metadata": {},
   "source": [
    "# 文档的优秀点"
   ]
  },
  {
   "cell_type": "markdown",
   "metadata": {},
   "source": [
    "## 站在新手的角度去阐述逻辑"
   ]
  },
  {
   "cell_type": "markdown",
   "metadata": {},
   "source": [
    "在看 Part.1.E.3.condtrolflow 章节的时候，尤其对于 continue、break和pass解释相当到位，不是单纯解释功能的作用，而是说明作为编程人员，对于这几个功能的一般性使用方法，是使用具体的情景进行说明，这样让读者有更加生动的认识，在以后的使用中明白方向。\n",
    "看过的其他编程书，全都是单纯解释句法的表面功能、会产生什么输出，但是不解释为什么有这个功能、这个功能到底主要有什么用法、对应的输出到底是什么意思、怎么去理解，尤其是 pass 这个功能，当初看到这个句法的时候，感觉莫名其妙，没有作用的语句为什么会有？出这个句法有毛用呀？入门书里面也不介绍，反正就是造成了很大的困扰。\n",
    "看了笑来老师的介绍，原来实际编程中，使用这个功能主要是为了解决“嵌套烧脑”的这个问题，首先可以使用这个功能，避免反复的细节，可以快速先搭建出逻辑框架，然后在进行功能细节的敲定、设计。\n",
    "通畅了。"
   ]
  },
  {
   "cell_type": "code",
   "execution_count": null,
   "metadata": {},
   "outputs": [],
   "source": []
  }
 ],
 "metadata": {
  "kernelspec": {
   "display_name": "python3.7.1",
   "language": "python",
   "name": "python3.7.1"
  },
  "language_info": {
   "codemirror_mode": {
    "name": "ipython",
    "version": 3
   },
   "file_extension": ".py",
   "mimetype": "text/x-python",
   "name": "python",
   "nbconvert_exporter": "python",
   "pygments_lexer": "ipython3",
   "version": "3.7.1"
  }
 },
 "nbformat": 4,
 "nbformat_minor": 2
}

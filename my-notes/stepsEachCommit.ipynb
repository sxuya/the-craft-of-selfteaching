{
 "cells": [
  {
   "cell_type": "markdown",
   "metadata": {},
   "source": [
    "### 每次提交 pullrequests 的步骤："
   ]
  },
  {
   "cell_type": "markdown",
   "metadata": {},
   "source": [
    "1. 切换到 master 的 branch。  \n",
    "    `git checkout master`\n",
    "2. 把 xiaolai 的 repository 更新到自己的电脑上。  \n",
    "    `git fetch upstream`  \n",
    "    `git merge upstream/master`  \n",
    "3. 进行自己的修改。（尽量快，先提前修改好，复制过来）\n",
    "4. 提交 commit，push 到自己云端的 master。\n",
    "5. 网页上进行 pull requests。"
   ]
  },
  {
   "cell_type": "code",
   "execution_count": null,
   "metadata": {},
   "outputs": [],
   "source": []
  }
 ],
 "metadata": {
  "kernelspec": {
   "display_name": "python3.7.1",
   "language": "python",
   "name": "python3.7.1"
  },
  "language_info": {
   "codemirror_mode": {
    "name": "ipython",
    "version": 3
   },
   "file_extension": ".py",
   "mimetype": "text/x-python",
   "name": "python",
   "nbconvert_exporter": "python",
   "pygments_lexer": "ipython3",
   "version": "3.7.1"
  }
 },
 "nbformat": 4,
 "nbformat_minor": 2
}

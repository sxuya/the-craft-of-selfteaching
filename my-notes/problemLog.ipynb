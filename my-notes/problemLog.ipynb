{
 "cells": [
  {
   "cell_type": "markdown",
   "metadata": {},
   "source": [
    "# 问题收集"
   ]
  },
  {
   "cell_type": "markdown",
   "metadata": {},
   "source": [
    "## map 和 dictionary 的区别"
   ]
  },
  {
   "cell_type": "markdown",
   "metadata": {},
   "source": [
    "2019年4月19日 10:12:44\n",
    "\n",
    "既然容器一个比较特殊的是映射容器（Map），而 Map 只有一种字典（Dictionary），那怎么还要单独分类出来呢？放在原来的不就好了么？\n",
    "\n",
    "难道他这么特殊、地位重要、有很重要的意义？\n",
    "\n",
    "有时候又叫 映射，有时候又叫 字典，有点混乱。\n",
    "\n",
    "就像，平时我们会说“我”，但是古文里面会用“吾”，编程里面叫法有什么规则么？"
   ]
  }
 ],
 "metadata": {
  "kernelspec": {
   "display_name": "python3.7.1",
   "language": "python",
   "name": "python3.7.1"
  },
  "language_info": {
   "codemirror_mode": {
    "name": "ipython",
    "version": 3
   },
   "file_extension": ".py",
   "mimetype": "text/x-python",
   "name": "python",
   "nbconvert_exporter": "python",
   "pygments_lexer": "ipython3",
   "version": "3.7.1"
  }
 },
 "nbformat": 4,
 "nbformat_minor": 2
}
